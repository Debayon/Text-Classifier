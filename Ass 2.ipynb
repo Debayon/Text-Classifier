{
 "cells": [
  {
   "cell_type": "code",
   "execution_count": 1,
   "metadata": {},
   "outputs": [],
   "source": [
    "import pandas as pd\n",
    "import numpy as np"
   ]
  },
  {
   "cell_type": "code",
   "execution_count": 3,
   "metadata": {},
   "outputs": [
    {
     "name": "stdout",
     "output_type": "stream",
     "text": [
      "                                                text       category\n",
      "0  mass shoot texa last week tv left husband kill...          CRIME\n",
      "1  smith join diplo nicki jam world cup offici so...  ENTERTAINMENT\n",
      "2  hugh grant marri first time age actor longtim ...  ENTERTAINMENT\n",
      "3  jim carrey blast castrato adam schiff democrat...  ENTERTAINMENT\n",
      "4  julianna marguli use donald trump poop bag pic...  ENTERTAINMENT\n"
     ]
    }
   ],
   "source": [
    "df = pd.read_csv(\"D:/Docs 2/Ass2/news_text.csv\")\n",
    "print(df.head())"
   ]
  },
  {
   "cell_type": "markdown",
   "metadata": {},
   "source": [
    "__Preprocessing: Cleaning the Data__"
   ]
  },
  {
   "cell_type": "code",
   "execution_count": null,
   "metadata": {},
   "outputs": [],
   "source": [
    "for i in range (0, df.shape[0]):\n",
    "    news = re.sub('[^a-zA-Z]', ' ', df['text'][i])\n",
    "    news = news.lower()\n",
    "    news = news.split()\n",
    "    news = [ps.stem(word) for word in news if not word in set(stopwords.words('english'))]\n",
    "    df['text'][i] = ' '.join(news)"
   ]
  },
  {
   "cell_type": "code",
   "execution_count": null,
   "metadata": {},
   "outputs": [],
   "source": [
    "df['category'] = df['category'].replace(\"CULTURE & ARTS\",\"ARTS & CULTURE\")"
   ]
  },
  {
   "cell_type": "code",
   "execution_count": 8,
   "metadata": {},
   "outputs": [
    {
     "name": "stdout",
     "output_type": "stream",
     "text": [
      "83823     gop field divid whether shutter govern plan pa...\n",
      "21222     trumputin hack tri take world ye well way glob...\n",
      "53134     spacex rocket lift cargo run success land laun...\n",
      "122003    unitedforukrain support ukrain futur elect opp...\n",
      "711       uber silenc women sexual assault use app click...\n",
      "Name: text, dtype: object\n",
      "56274     shoot rampag result mass casualti orlando gay ...\n",
      "9929      donald trump lash cnn abc report error presid ...\n",
      "163271    model kate moss walk loui vuitton rtw fall gol...\n",
      "190013    way singl mom cope lone singl mom feel lone as...\n",
      "13564     sen sherrod brown steve bannon white supremaci...\n",
      "Name: text, dtype: object\n",
      "83823      POLITICS\n",
      "21222      POLITICS\n",
      "53134       SCIENCE\n",
      "122003    WORLDPOST\n",
      "711        BUSINESS\n",
      "Name: category, dtype: object\n",
      "56274              CRIME\n",
      "9929            POLITICS\n",
      "163271    STYLE & BEAUTY\n",
      "190013           DIVORCE\n",
      "13564           POLITICS\n",
      "Name: category, dtype: object\n",
      "Training dataset:  140597\n",
      "Test dataset:  60256\n"
     ]
    }
   ],
   "source": [
    "from sklearn.model_selection import train_test_split\n",
    "X_train, X_test, y_train, y_test = train_test_split(df['text'], df['category'], test_size=0.30, random_state=42)\n",
    "print(X_train.head())\n",
    "print(X_test.head())\n",
    "print(y_train.head())\n",
    "print(y_test.head())\n",
    "\n",
    "print(\"Training dataset: \", X_train.shape[0])\n",
    "print(\"Test dataset: \", X_test.shape[0])"
   ]
  },
  {
   "cell_type": "code",
   "execution_count": null,
   "metadata": {},
   "outputs": [],
   "source": [
    "import matplotlib.pyplot as plt\n",
    "fig = plt.figure(figsize=(8,6))\n",
    "df.groupby('category').category.count().plot.bar(ylim=0)\n",
    "plt.show()"
   ]
  },
  {
   "cell_type": "markdown",
   "metadata": {},
   "source": [
    "__Bag of Words Model : creating features__"
   ]
  },
  {
   "cell_type": "code",
   "execution_count": null,
   "metadata": {},
   "outputs": [],
   "source": [
    "from sklearn.feature_extraction.text import CountVectorizer\n",
    "from sklearn.feature_extraction.text import TfidfTransformer\n",
    "\n",
    "count_vector = CountVectorizer(max_features =45000, stop_words = 'english')\n",
    "training_data = count_vector.fit_transform(X_train)\n",
    "testing_data = count_vector.transform(X_test)\n",
    "# tfidf_transformer = TfidfTransformer()\n",
    "# X_train_tfidf = tfidf_transformer.fit_transform(training_data)\n",
    "print(training_data.shape)"
   ]
  },
  {
   "cell_type": "markdown",
   "metadata": {},
   "source": [
    "__Using Naive Bayes Classifier__"
   ]
  },
  {
   "cell_type": "code",
   "execution_count": 65,
   "metadata": {},
   "outputs": [
    {
     "data": {
      "text/plain": [
       "MultinomialNB(alpha=1.0, class_prior=None, fit_prior=True)"
      ]
     },
     "execution_count": 65,
     "metadata": {},
     "output_type": "execute_result"
    }
   ],
   "source": [
    "from sklearn.naive_bayes import MultinomialNB\n",
    "\n",
    "naive_bayes = MultinomialNB()\n",
    "naive_bayes.fit(training_data, y_train)"
   ]
  },
  {
   "cell_type": "code",
   "execution_count": 66,
   "metadata": {},
   "outputs": [
    {
     "data": {
      "text/plain": [
       "array(['CRIME', 'POLITICS', 'STYLE & BEAUTY', ..., 'POLITICS', 'CRIME',\n",
       "       'FOOD & DRINK'], dtype='<U14')"
      ]
     },
     "execution_count": 66,
     "metadata": {},
     "output_type": "execute_result"
    }
   ],
   "source": [
    "predictions = naive_bayes.predict(testing_data)\n",
    "predictions"
   ]
  },
  {
   "cell_type": "code",
   "execution_count": 67,
   "metadata": {},
   "outputs": [
    {
     "name": "stdout",
     "output_type": "stream",
     "text": [
      "Accuracy score:  0.5809545937334042\n",
      "Recall score:  0.5809545937334042\n",
      "Precision score:  0.5929979825758123\n",
      "F1 score:  0.5375723517116883\n"
     ]
    }
   ],
   "source": [
    "from sklearn.metrics import accuracy_score, recall_score, precision_score, f1_score\n",
    "\n",
    "print(\"Accuracy score: \", accuracy_score(y_test, predictions))\n",
    "print(\"Recall score: \", recall_score(y_test, predictions, average = 'weighted'))\n",
    "print(\"Precision score: \", precision_score(y_test, predictions, average = 'weighted'))\n",
    "print(\"F1 score: \", f1_score(y_test, predictions, average = 'weighted'))"
   ]
  }
 ],
 "metadata": {
  "kernelspec": {
   "display_name": "Python 3",
   "language": "python",
   "name": "python3"
  },
  "language_info": {
   "codemirror_mode": {
    "name": "ipython",
    "version": 3
   },
   "file_extension": ".py",
   "mimetype": "text/x-python",
   "name": "python",
   "nbconvert_exporter": "python",
   "pygments_lexer": "ipython3",
   "version": "3.6.4"
  }
 },
 "nbformat": 4,
 "nbformat_minor": 2
}
